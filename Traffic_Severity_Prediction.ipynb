{
  "nbformat": 4,
  "nbformat_minor": 0,
  "metadata": {
    "colab": {
      "provenance": [],
      "authorship_tag": "ABX9TyMT+gAnvsx7IGXp7cCy8njN",
      "include_colab_link": true
    },
    "kernelspec": {
      "name": "python3",
      "display_name": "Python 3"
    },
    "language_info": {
      "name": "python"
    }
  },
  "cells": [
    {
      "cell_type": "markdown",
      "metadata": {
        "id": "view-in-github",
        "colab_type": "text"
      },
      "source": [
        "<a href=\"https://colab.research.google.com/github/Dilhani98/Traffic_Severity_Prediction-System/blob/main/Traffic_Severity_Prediction.ipynb\" target=\"_parent\"><img src=\"https://colab.research.google.com/assets/colab-badge.svg\" alt=\"Open In Colab\"/></a>"
      ]
    },
    {
      "cell_type": "code",
      "execution_count": null,
      "metadata": {
        "colab": {
          "base_uri": "https://localhost:8080/"
        },
        "id": "Mq3SqC5mYSWm",
        "outputId": "56cdfcc4-a1f8-45c9-e718-29e905860f59"
      },
      "outputs": [
        {
          "output_type": "stream",
          "name": "stdout",
          "text": [
            "Drive already mounted at /content/gdrive; to attempt to forcibly remount, call drive.mount(\"/content/gdrive\", force_remount=True).\n"
          ]
        }
      ],
      "source": [
        "from google.colab import drive\n",
        "drive.mount('/content/gdrive')"
      ]
    },
    {
      "cell_type": "code",
      "source": [
        "import pandas as pd\n",
        "\n",
        "# Specify the path to the CSV file within your Google Drive\n",
        "csv_file_path = '/content/gdrive/My Drive/Colab Notebooks/Data mining/RTA Dataset.csv'\n",
        "\n",
        "# Read the CSV file into a Pandas DataFrame\n",
        "df = pd.read_csv(csv_file_path)\n",
        "\n",
        "# Now, 'df' contains your CSV data, and you can work with it in your Colab notebook.\n",
        "df"
      ],
      "metadata": {
        "id": "aH72BKUMZrz_"
      },
      "execution_count": null,
      "outputs": []
    },
    {
      "cell_type": "code",
      "source": [
        "df.describe()"
      ],
      "metadata": {
        "id": "9CrGTaKKZ-ZX"
      },
      "execution_count": null,
      "outputs": []
    },
    {
      "cell_type": "code",
      "source": [
        "# Check for missing values\n",
        "missing_values = df.isnull().sum()\n",
        "print(\"Missing Values:\")\n",
        "print(missing_values)"
      ],
      "metadata": {
        "id": "uUxmKOe4aRv9"
      },
      "execution_count": null,
      "outputs": []
    },
    {
      "cell_type": "code",
      "source": [
        "# Calculate missing values and percentages\n",
        "missing_data = df.isna().sum()\n",
        "percentage_missing = (missing_data / len(df)) * 100\n",
        "\n",
        "# Create a DataFrame to display results\n",
        "missing_info = pd.DataFrame({'Missing Values': missing_data, 'Percentage Missing': percentage_missing})\n",
        "\n",
        "# Display missing values information\n",
        "print(missing_info)\n"
      ],
      "metadata": {
        "colab": {
          "base_uri": "https://localhost:8080/"
        },
        "id": "U8N_OMGtfZv2",
        "outputId": "ab3bbe69-535d-4455-cb88-41f6f1904122"
      },
      "execution_count": null,
      "outputs": [
        {
          "output_type": "stream",
          "name": "stdout",
          "text": [
            "                             Missing Values  Percentage Missing\n",
            "Time                                      0            0.000000\n",
            "Day_of_week                               0            0.000000\n",
            "Age_band_of_driver                        0            0.000000\n",
            "Sex_of_driver                             0            0.000000\n",
            "Educational_level                         0            0.000000\n",
            "Vehicle_driver_relation                  98            0.846652\n",
            "Driving_experience                      275            2.375810\n",
            "Type_of_vehicle                         850            7.343413\n",
            "Owner_of_vehicle                        407            3.516199\n",
            "Service_year_of_vehicle                3613           31.213823\n",
            "Defect_of_vehicle                      4117           35.568035\n",
            "Area_accident_occured                   211            1.822894\n",
            "Lanes_or_Medians                        347            2.997840\n",
            "Road_allignment                         135            1.166307\n",
            "Types_of_Junction                       841            7.265659\n",
            "Road_surface_type                       161            1.390929\n",
            "Road_surface_conditions                   0            0.000000\n",
            "Light_conditions                          0            0.000000\n",
            "Weather_conditions                        0            0.000000\n",
            "Type_of_collision                       146            1.261339\n",
            "Number_of_vehicles_involved               0            0.000000\n",
            "Number_of_casualties                      0            0.000000\n",
            "Vehicle_movement                        291            2.514039\n",
            "Casualty_class                            0            0.000000\n",
            "Sex_of_casualty                           0            0.000000\n",
            "Age_band_of_casualty                      0            0.000000\n",
            "Casualty_severity                         0            0.000000\n",
            "Work_of_casuality                      3007           25.978402\n",
            "Fitness_of_casuality                   2482           21.442765\n",
            "Pedestrian_movement                       0            0.000000\n",
            "Cause_of_accident                         0            0.000000\n",
            "Accident_severity                         0            0.000000\n"
          ]
        }
      ]
    },
    {
      "cell_type": "code",
      "source": [
        "# Get unique values column-wise\n",
        "unique_values = {}\n",
        "for column in df.columns:\n",
        "    unique_values[column] = df[column].unique()\n",
        "\n",
        "# Display unique values\n",
        "for column, values in unique_values.items():\n",
        "    print(f'Unique values in {column}:')\n",
        "    print(values)\n",
        "    print(\"\\n\")\n"
      ],
      "metadata": {
        "id": "7h82-4d3pTo0"
      },
      "execution_count": null,
      "outputs": []
    },
    {
      "cell_type": "code",
      "source": [
        "df.dropna(subset=['Educational_level'], inplace=True)"
      ],
      "metadata": {
        "id": "NzO5D06W8bfa"
      },
      "execution_count": null,
      "outputs": []
    },
    {
      "cell_type": "markdown",
      "source": [
        "#feature reduction\n"
      ],
      "metadata": {
        "id": "H4sILU9nduK-"
      }
    },
    {
      "cell_type": "code",
      "source": [
        "import pandas as pd\n",
        "import seaborn as sns\n",
        "import matplotlib.pyplot as plt"
      ],
      "metadata": {
        "id": "8zXasvyIdyn0"
      },
      "execution_count": null,
      "outputs": []
    },
    {
      "cell_type": "code",
      "source": [
        "import matplotlib.pyplot as plt\n",
        "# Calculate the correlation matrix\n",
        "correlation_matrix = df.corr()\n",
        "\n",
        "# Create a heatmap to visualize the correlations\n",
        "import seaborn as sns\n",
        "plt.figure(figsize=(10, 8))\n",
        "sns.heatmap(correlation_matrix, annot=True, cmap='coolwarm')\n",
        "plt.title('Correlation Heatmap')\n",
        "plt.show()\n",
        "\n"
      ],
      "metadata": {
        "colab": {
          "base_uri": "https://localhost:8080/",
          "height": 754
        },
        "id": "d9W-s5fLd3Uc",
        "outputId": "d66bace7-ee24-49db-e76c-3c11faf12e81"
      },
      "execution_count": null,
      "outputs": [
        {
          "output_type": "stream",
          "name": "stderr",
          "text": [
            "<ipython-input-21-52150ec21be2>:3: FutureWarning: The default value of numeric_only in DataFrame.corr is deprecated. In a future version, it will default to False. Select only valid columns or specify the value of numeric_only to silence this warning.\n",
            "  correlation_matrix = df.corr()\n"
          ]
        },
        {
          "output_type": "display_data",
          "data": {
            "text/plain": [
              "<Figure size 1000x800 with 2 Axes>"
            ],
            "image/png": "[encoded data removed]"
          },
          "metadata": {}
        }
      ]
    }
  ]
}